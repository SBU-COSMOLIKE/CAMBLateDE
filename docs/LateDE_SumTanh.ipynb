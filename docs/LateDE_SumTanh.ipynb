{
 "cells": [
  {
   "cell_type": "markdown",
   "id": "1d7cdf9a",
   "metadata": {},
   "source": [
    "### CAMBLateDE - Sum of Hyperbolic Tangent\n",
    "Diogo H. F. Souza, September 20 2024"
   ]
  },
  {
   "cell_type": "code",
   "execution_count": 1,
   "id": "f62298b8",
   "metadata": {},
   "outputs": [
    {
     "name": "stdout",
     "output_type": "stream",
     "text": [
      "Using CAMB 1.5.0 installed at /gpfs/projects/MirandaGroup/Diogo/CAMBLateDE/camb\n"
     ]
    }
   ],
   "source": [
    "# CAMB LateDE\n",
    "import numpy as np\n",
    "import matplotlib.pyplot as plt\n",
    "import camb, os, sys\n",
    "\n",
    "#Check which CAMB is installed\n",
    "print('Using CAMB %s installed at %s'%(camb.__version__,os.path.dirname(camb.__file__)))"
   ]
  },
  {
   "cell_type": "code",
   "execution_count": 2,
   "id": "20f51e48",
   "metadata": {},
   "outputs": [],
   "source": [
    "zs_5bins = [0.3*(1+i) for i in range(5)]\n",
    "\n",
    "commom_params = {\"H0\": 70, \"ombh2\":0.02238280, \"omch2\":0.1201075, \"TCMB\": 2.7255,\n",
    "                 \"dark_energy_model\": 'ppf',\n",
    "                  \"w0\": -0.8, \"w1\": -0.4, \"w2\": -0.2, \"w3\": -0.7, \"w4\": -0.9,\n",
    "                  \"z1\":zs_5bins[0], \"z2\":zs_5bins[1], \"z3\":zs_5bins[2], \"z4\":zs_5bins[3], \"z5\":zs_5bins[4],\n",
    "                 # Neutrinos\n",
    "                  \"omnuh2\": 0, \"num_nu_massless\": 3.044, \"num_nu_massive\": 0,\n",
    "                  \"nu_mass_degeneracies\": [0], \"nu_mass_numbers\": [0],\n",
    "                 # Initial Power Spectrum\n",
    "                  \"As\": 2.100549e-09, \"ns\": 0.9660499, \n",
    "                  \"YHe\": 0.246, \"WantTransfer\": True}\n",
    "\n",
    "\n",
    "Binned5_params = camb.set_params(**commom_params, DEmodel= 5)\n",
    "SumTanh_params = camb.set_params(**commom_params, DEmodel= 20, sigma=0.05)"
   ]
  },
  {
   "cell_type": "code",
   "execution_count": 3,
   "id": "9e6f01b8",
   "metadata": {},
   "outputs": [],
   "source": [
    "scale_factor = np.logspace(-6, 0, 5000)\n",
    "redshift = 1/scale_factor - 1\n",
    "\n",
    "Binned5_results = camb.get_results(Binned5_params)\n",
    "SumTanh_results = camb.get_results(SumTanh_params)\n",
    "rho_Binned5, w_Binned5 = Binned5_results.get_dark_energy_rho_w(scale_factor)\n",
    "rho_SumTanh, w_SumTanh = SumTanh_results.get_dark_energy_rho_w(scale_factor)"
   ]
  },
  {
   "cell_type": "code",
   "execution_count": 66,
   "id": "65253b48",
   "metadata": {},
   "outputs": [],
   "source": [
    "x = [0]+[eval(f\"Binned5_results.Params.DarkEnergy.z{i+1}\") for i in range(5)] + [10] # 10 is arbitrary - just choose a high redshift to support w = -1\n",
    "y = [eval(f\"Binned5_results.Params.DarkEnergy.w{i}\") for i in range(5)] + [-1]    "
   ]
  },
  {
   "cell_type": "code",
   "execution_count": 64,
   "id": "6ff47e80",
   "metadata": {},
   "outputs": [
    {
     "data": {
      "text/plain": [
       "(0.1, 10.0)"
      ]
     },
     "execution_count": 64,
     "metadata": {},
     "output_type": "execute_result"
    },
    {
     "data": {
      "image/png": "[encoded data removed]",
      "text/plain": [
       "<Figure size 640x480 with 1 Axes>"
      ]
     },
     "metadata": {},
     "output_type": "display_data"
    }
   ],
   "source": [
    "[plt.hlines(y=y[i],xmin=x[i],xmax=x[i+1],color=\"C0\") for i in range(6)]\n",
    "plt.semilogx(redshift,w_SumTanh, label=\"Sum of Hyperbolic Tangente: \"+r\"$\\sigma$={}\".format(SumTanh_results.Params.DarkEnergy.sigma),color=\"orange\")\n",
    "\n",
    "[plt.axvline(x=zs_5bins[i],c=\"black\",ls=\"--\",alpha=.3) for i in range(5)]\n",
    "plt.legend(loc=\"center right\")\n",
    "plt.xlim(1e-1,1e1)"
   ]
  }
 ],
 "metadata": {
  "kernelspec": {
   "display_name": "Python 3 (ipykernel)",
   "language": "python",
   "name": "python3"
  },
  "language_info": {
   "codemirror_mode": {
    "name": "ipython",
    "version": 3
   },
   "file_extension": ".py",
   "mimetype": "text/x-python",
   "name": "python",
   "nbconvert_exporter": "python",
   "pygments_lexer": "ipython3",
   "version": "3.9.19"
  }
 },
 "nbformat": 4,
 "nbformat_minor": 5
}
